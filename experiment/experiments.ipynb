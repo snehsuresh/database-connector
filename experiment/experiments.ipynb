{
 "cells": [
  {
   "cell_type": "code",
   "execution_count": 10,
   "metadata": {},
   "outputs": [],
   "source": [
    "import subprocess"
   ]
  },
  {
   "cell_type": "code",
   "execution_count": 11,
   "metadata": {},
   "outputs": [
    {
     "name": "stdout",
     "output_type": "stream",
     "text": [
      "Requirement already satisfied: cassandra-driver in /Users/snehsuresh/anaconda3/lib/python3.11/site-packages (3.29.1)\n",
      "Requirement already satisfied: geomet<0.3,>=0.1 in /Users/snehsuresh/anaconda3/lib/python3.11/site-packages (from cassandra-driver) (0.2.1.post1)\n",
      "Requirement already satisfied: click in /Users/snehsuresh/anaconda3/lib/python3.11/site-packages (from geomet<0.3,>=0.1->cassandra-driver) (8.0.4)\n",
      "Requirement already satisfied: six in /Users/snehsuresh/.local/lib/python3.11/site-packages (from geomet<0.3,>=0.1->cassandra-driver) (1.16.0)\n"
     ]
    }
   ],
   "source": [
    "!pip install cassandra-driver"
   ]
  },
  {
   "cell_type": "code",
   "execution_count": 1,
   "metadata": {},
   "outputs": [],
   "source": [
    "from cassandra.cluster import Cluster\n"
   ]
  },
  {
   "cell_type": "code",
   "execution_count": 2,
   "metadata": {},
   "outputs": [],
   "source": [
    "cluster = Cluster(['0.0.0.0'], port=9042)"
   ]
  },
  {
   "cell_type": "code",
   "execution_count": 3,
   "metadata": {},
   "outputs": [],
   "source": [
    "session = cluster.connect()"
   ]
  },
  {
   "cell_type": "code",
   "execution_count": 4,
   "metadata": {},
   "outputs": [
    {
     "data": {
      "text/plain": [
       "<cassandra.cluster.ResultSet at 0x106440af0>"
      ]
     },
     "execution_count": 4,
     "metadata": {},
     "output_type": "execute_result"
    }
   ],
   "source": [
    "session.execute(\"\"\"\n",
    "    CREATE KEYSPACE IF NOT EXISTS snehkeyspace\n",
    "    WITH replication = {'class': 'SimpleStrategy', 'replication_factor' : 1};\n",
    "\"\"\")"
   ]
  },
  {
   "cell_type": "code",
   "execution_count": 6,
   "metadata": {},
   "outputs": [
    {
     "data": {
      "text/plain": [
       "<cassandra.cluster.ResultSet at 0x107767670>"
      ]
     },
     "execution_count": 6,
     "metadata": {},
     "output_type": "execute_result"
    }
   ],
   "source": [
    "session.execute(\"\"\"\n",
    "    CREATE TABLE IF NOT EXISTS snehkeyspace.users (\n",
    "        user_id UUID PRIMARY KEY,\n",
    "        name TEXT,\n",
    "        age INT\n",
    "    );\n",
    "\"\"\")"
   ]
  },
  {
   "cell_type": "code",
   "execution_count": 7,
   "metadata": {},
   "outputs": [
    {
     "data": {
      "text/plain": [
       "<cassandra.cluster.ResultSet at 0x1078a3fa0>"
      ]
     },
     "execution_count": 7,
     "metadata": {},
     "output_type": "execute_result"
    }
   ],
   "source": [
    "# Example: Insert data\n",
    "session.execute(\"\"\"\n",
    "    INSERT INTO snehkeyspace.users (user_id, name, age)\n",
    "    VALUES (uuid(), 'John Doe', 30);\n",
    "\"\"\")"
   ]
  },
  {
   "cell_type": "code",
   "execution_count": 8,
   "metadata": {},
   "outputs": [
    {
     "name": "stdout",
     "output_type": "stream",
     "text": [
      "bbb26d19-00fa-4efc-8f3d-c6d497d1755d John Doe 30\n"
     ]
    }
   ],
   "source": [
    "rows = session.execute(\"SELECT * FROM snehkeyspace.users\")\n",
    "for row in rows:\n",
    "    print(row.user_id, row.name, row.age)"
   ]
  },
  {
   "cell_type": "code",
   "execution_count": 10,
   "metadata": {},
   "outputs": [],
   "source": [
    "session.shutdown()\n",
    "cluster.shutdown()\n"
   ]
  },
  {
   "cell_type": "code",
   "execution_count": 390,
   "metadata": {},
   "outputs": [],
   "source": [
    "from typing import Any\n",
    "import pandas as pd\n",
    "from cassandra.cluster import Cluster\n",
    "from cassandra.auth import PlainTextAuthProvider\n",
    "import subprocess\n",
    "import time\n",
    "\n",
    "class CassandraOperation:\n",
    "    __session = None  # Private/protected variable for session\n",
    "    __cluster = None\n",
    "    __username = None\n",
    "    __password = None\n",
    "    def __init__(self, contact_points: list, volume: str =\"cassandra_data\"):\n",
    "        self.contact_points = contact_points\n",
    "        self.schema = None\n",
    "        self.volume = volume\n",
    "\n",
    "        if not self._is_cassandra_running():\n",
    "            started = self._start_cassandra_container()\n",
    "            if not started:\n",
    "                raise RuntimeError(\"Failed to start Cassandra Docker container.\")\n",
    "            \n",
    "    def _is_cassandra_running(self):\n",
    "        try:\n",
    "            output = subprocess.check_output([\"docker\", \"inspect\", \"-f\", \"{{.State.Running}}\", \"test-cassandra-v2\"], stderr=subprocess.DEVNULL)\n",
    "            return output.strip() == b\"true\"\n",
    "        except subprocess.CalledProcessError:\n",
    "            return False;\n",
    "\n",
    "    def _start_cassandra_container(self):\n",
    "        try:\n",
    "            # Check if the volume exists\n",
    "            volume_exists = subprocess.run([\"docker\", \"volume\", \"inspect\", self.volume], stderr=subprocess.DEVNULL).returncode == 0\n",
    "            # Create the volume if it doesn't exist\n",
    "            if not volume_exists:\n",
    "                subprocess.run([\"docker\", \"volume\", \"create\", self.volume], check=True)\n",
    "                print(f\"Docker volume {self.volume} created.\")\n",
    "\n",
    "            # Remove any existing container with the same name to avoid conflicts\n",
    "            subprocess.run([\"docker\", \"rm\", \"-f\", \"test-cassandra-v2\"], check=True, stdout=subprocess.DEVNULL, stderr=subprocess.DEVNULL)\n",
    "            # Run the Cassandra container with the volume\n",
    "            volume_path = f\"{self.volume}:/var/lib/cassandra\"\n",
    "            container_id = subprocess.check_output([\n",
    "                \"docker\", \"run\", \"--name\", \"test-cassandra-v2\",\n",
    "                \"-p\", \"9042:9042\",\n",
    "                \"-v\", volume_path,\n",
    "                \"-d\", \"cassandra:latest\"\n",
    "            ], stderr=subprocess.DEVNULL)\n",
    "            \n",
    "            print(f\"Container ID created: {container_id.decode().strip()}\")\n",
    "            for _ in range(10):  # Retry up to n times \n",
    "                if self._is_cassandra_running():\n",
    "                    print(\"Cassandra is running.\")\n",
    "                    return True\n",
    "                time.sleep(2)  # Check every 2 seconds\n",
    "            print(\"Error: Cassandra did not start in the expected time.\")\n",
    "            return False\n",
    "        except subprocess.CalledProcessError as e:\n",
    "            print(f\"Error starting Cassandra container: {e}\")\n",
    "            return False\n",
    "    \n",
    "    \n",
    "    def connect(self, username=None, password=None):\n",
    "        self.__username = username\n",
    "        self.__password = password\n",
    "        start_time = time.time()\n",
    "        timeout = 120\n",
    "        auth_provider = None\n",
    "        message_printed = False\n",
    "        if self.__username and self.__password:\n",
    "            auth_provider = PlainTextAuthProvider(username=self.__username, password=self.__password)\n",
    "        while time.time() - start_time < timeout:\n",
    "            try:\n",
    "                self.__cluster = Cluster(self.contact_points, auth_provider=auth_provider, port=9042)\n",
    "                self.__session = self.__cluster.connect()\n",
    "                print(\"Cassandra is ready.\")\n",
    "                return self.__session\n",
    "            except Exception as e:\n",
    "                if not message_printed and 'ConnectionResetError' in str(e):\n",
    "                    print(f\"Error connecting: {e}\")\n",
    "                    print(f\"It seems Cassandra isn't ready yet. Give us a minute while we ensure it is fully operational..\")\n",
    "                message_printed = True\n",
    "                time.sleep(5)  # Wait for 5 seconds before retrying\n",
    "        raise RuntimeError(\"Cassandra did not become ready in the expected time.\")\n",
    "\n",
    "\n",
    "    \n",
    "    def create_keyspace(self, keyspace_name: str, strategy: str = 'SimpleStrategy', replicas: int = 1):\n",
    "        self.__session.execute(f\"CREATE KEYSPACE IF NOT EXISTS {keyspace_name} WITH replication = {{'class': '{strategy}', 'replication_factor' : {replicas}}};\")\n",
    "    \n",
    "    def use_keyspace(self, keyspace_name: str):\n",
    "        self.__session.set_keyspace(keyspace_name)\n",
    "    \n",
    "    def create_table(self, table_name: str, schema: dict[str, str]):\n",
    "        if self.__session.keyspace:\n",
    "            table = self.__session.keyspace + '.' +  table_name\n",
    "            schema_str = ', '.join([f\"{column} {datatype}\" for column, datatype in schema.items()])\n",
    "            self.__session.execute(f\"CREATE TABLE IF NOT EXISTS {table} ({schema_str});\")\n",
    "        else:\n",
    "            raise ValueError(\"No keyspace selected in the current session.\") \n",
    "\n",
    "    def get_table_schema(self, table_name: str):\n",
    "        keyspace_name = self.__session.keyspace\n",
    "        if keyspace_name is None:\n",
    "            raise ValueError(\"No keyspace selected in the current session.\")\n",
    "        metadata = self.__session.cluster.metadata\n",
    "        keyspace = metadata.keyspaces.get(keyspace_name)\n",
    "        if keyspace is None:\n",
    "            raise ValueError(f\"Keyspace '{keyspace_name}' not found in metadata.\")\n",
    "\n",
    "        table = keyspace.tables.get(table_name)\n",
    "\n",
    "        if table is None:\n",
    "            raise ValueError(f\"Table '{table_name}' not found in keyspace '{keyspace_name}'.\")\n",
    "\n",
    "        schema = {column.name: str(column.cql_type) for column in table.columns.values()}\n",
    "        return schema\n",
    "    \n",
    "    def switch_keyspace(self, keyspace_name: str):\n",
    "        if keyspace_name in self.__cluster.metadata.keyspaces:\n",
    "            self.__session.set_keyspace(keyspace_name)\n",
    "            self.keyspace = keyspace_name\n",
    "            print(f\"Switched to keyspace: {keyspace_name}\")\n",
    "        else:\n",
    "            raise ValueError(f\"Keyspace '{keyspace_name}' does not exist.\")\n",
    "    \n",
    "    def insert_record(self, table_name: str, record: dict):\n",
    "        table = self.__session.keyspace + '.' + table_name\n",
    "        columns = ', '.join(record.keys())\n",
    "        values = ', '.join([f\"'{value}'\" if isinstance(value, str) else str(value) for value in record.values()])\n",
    "        query = f\"INSERT INTO {table} ({columns}) VALUES ({values});\"\n",
    "        self.__session.execute(query)\n",
    "    \n",
    "    def bulk_insert(self, datafile: str, table_name: str):\n",
    "        if datafile.endswith('.csv'):\n",
    "            dataframe = pd.read_csv(datafile, encoding='utf-8')\n",
    "        elif datafile.endswith(\".xlsx\"):\n",
    "            dataframe = pd.read_excel(datafile, encoding='utf-8')\n",
    "        \n",
    "        for _, row in dataframe.iterrows():\n",
    "            record = row.to_dict()\n",
    "            print(record)\n",
    "            self.insert_record(table_name, record)\n",
    "    \n",
    "    def fetch_records(self, table_name: str):\n",
    "        query = f\"SELECT * FROM {table_name};\"\n",
    "        rows = self.__session.execute(query)\n",
    "        return rows\n",
    "    \n",
    "    def update_record(self, table_name: str, condition_column: str, condition_value: Any, update_values: dict):\n",
    "        schema = self.get_table_schema(table_name)\n",
    "        \n",
    "        # Check condition value format\n",
    "        if condition_column not in schema:\n",
    "            raise ValueError(f\"Condition column '{condition_column}' not found in table schema.\")\n",
    "\n",
    "        if not self._is_value_valid(schema[condition_column], condition_value):\n",
    "            raise ValueError(f\"Condition value '{condition_value}' does not match schema type '{schema[condition_column]}'.\")\n",
    "\n",
    "        # Check update values format\n",
    "        for key, value in update_values.items():\n",
    "            if key not in schema:\n",
    "                raise ValueError(f\"Update column '{key}' not found in table schema.\")\n",
    "\n",
    "            if not self._is_value_valid(schema[key], value):\n",
    "                raise ValueError(f\"Update value '{value}' for column '{key}' does not match schema type '{schema[key]}'.\")\n",
    "\n",
    "        # Construct update query\n",
    "        set_values = ', '.join([f\"{key} = '{value}'\" if isinstance(value, str) else f\"{key} = {value}\" for key, value in update_values.items()])\n",
    "        if isinstance(condition_value, str):\n",
    "            condition_value_str = f\"'{condition_value}'\"\n",
    "        else:\n",
    "            condition_value_str = str(condition_value)\n",
    "        \n",
    "        query = f\"UPDATE {table_name} SET {set_values} WHERE {condition_column} = {condition_value_str};\"\n",
    "        self.__session.execute(query)\n",
    "    \n",
    "    def delete_record(self, table_name: str, condition_column: str, condition_value: Any):\n",
    "        query = f\"DELETE FROM {table_name} WHERE {condition_column} = '{condition_value}';\"\n",
    "        self.__session.execute(query)\n",
    "    \n",
    "    def _is_value_valid(self, expected_type: str, value: Any) -> bool:\n",
    "        # Implement your validation logic here based on expected_type and value\n",
    "        # Example: Check if value matches expected_type\n",
    "        return isinstance(value, str) if expected_type == 'text' else isinstance(value, int) if expected_type == 'int' else False\n",
    "\n",
    "    def close(self):\n",
    "        if self.__session:\n",
    "            self.__session.shutdown()\n",
    "        self.stop_container()\n",
    "\n",
    "    def stop_container(self):\n",
    "        try:\n",
    "            subprocess.run([\"docker\", \"stop\", \"test-cassandra-v2\"], check=True)\n",
    "            subprocess.run([\"docker\", \"rm\", \"test-cassandra-v2\"], check=True)\n",
    "            print(\"Cassandra container stopped and removed.\")\n",
    "        except subprocess.CalledProcessError as e:\n",
    "            print(f\"Error stopping Cassandra container: {e}\")\n",
    "\n"
   ]
  },
  {
   "cell_type": "code",
   "execution_count": 414,
   "metadata": {},
   "outputs": [
    {
     "name": "stdout",
     "output_type": "stream",
     "text": [
      "[\n",
      "    {\n",
      "        \"CreatedAt\": \"2024-07-11T05:54:00Z\",\n",
      "        \"Driver\": \"local\",\n",
      "        \"Labels\": null,\n",
      "        \"Mountpoint\": \"/var/lib/docker/volumes/cassandra_data/_data\",\n",
      "        \"Name\": \"cassandra_data\",\n",
      "        \"Options\": null,\n",
      "        \"Scope\": \"local\"\n",
      "    }\n",
      "]\n",
      "sneh volume exists True\n",
      "Container ID created: 83de64e18825a1cb13a8dd02337b59b90dd198476ed0be493a5061431932009d\n",
      "Cassandra is running.\n"
     ]
    }
   ],
   "source": [
    "contact_points = ['0.0.0.0']  # Replace with your Cassandra cluster's contact points\n",
    "keyspace = 'test_keyspace'\n",
    "cassandra_op = CassandraOperation(contact_points)"
   ]
  },
  {
   "cell_type": "code",
   "execution_count": 415,
   "metadata": {},
   "outputs": [
    {
     "name": "stdout",
     "output_type": "stream",
     "text": [
      "Error connecting: ('Unable to connect to any servers', {'0.0.0.0:9042': ConnectionResetError(54, 'Connection reset by peer')})\n",
      "It seems Cassandra isn't ready yet. Give us a minute while we ensure it is fully operational..\n",
      "Cassandra is ready.\n"
     ]
    }
   ],
   "source": [
    "session = cassandra_op.connect()"
   ]
  },
  {
   "cell_type": "code",
   "execution_count": 395,
   "metadata": {},
   "outputs": [
    {
     "name": "stdout",
     "output_type": "stream",
     "text": [
      "test_keyspace\n",
      "CREATE KEYSPACE IF NOT EXISTS test_keyspace WITH replication = {'class': SimpleStrategy', 'replication_factor' : 1};\n"
     ]
    }
   ],
   "source": [
    "print(keyspace)\n",
    "cassandra_op.create_keyspace(keyspace)"
   ]
  },
  {
   "cell_type": "code",
   "execution_count": 416,
   "metadata": {},
   "outputs": [
    {
     "ename": "InvalidRequest",
     "evalue": "Error from server: code=2200 [Invalid query] message=\"Keyspace 'test_keyspace' does not exist\"",
     "output_type": "error",
     "traceback": [
      "\u001b[0;31m---------------------------------------------------------------------------\u001b[0m",
      "\u001b[0;31mInvalidRequest\u001b[0m                            Traceback (most recent call last)",
      "Cell \u001b[0;32mIn[416], line 1\u001b[0m\n\u001b[0;32m----> 1\u001b[0m \u001b[43mcassandra_op\u001b[49m\u001b[38;5;241;43m.\u001b[39;49m\u001b[43muse_keyspace\u001b[49m\u001b[43m(\u001b[49m\u001b[43mkeyspace\u001b[49m\u001b[43m)\u001b[49m\n",
      "Cell \u001b[0;32mIn[390], line 94\u001b[0m, in \u001b[0;36mCassandraOperation.use_keyspace\u001b[0;34m(self, keyspace_name)\u001b[0m\n\u001b[1;32m     93\u001b[0m \u001b[38;5;28;01mdef\u001b[39;00m \u001b[38;5;21muse_keyspace\u001b[39m(\u001b[38;5;28mself\u001b[39m, keyspace_name: \u001b[38;5;28mstr\u001b[39m):\n\u001b[0;32m---> 94\u001b[0m     \u001b[38;5;28;43mself\u001b[39;49m\u001b[38;5;241;43m.\u001b[39;49m\u001b[43m__session\u001b[49m\u001b[38;5;241;43m.\u001b[39;49m\u001b[43mset_keyspace\u001b[49m\u001b[43m(\u001b[49m\u001b[43mkeyspace_name\u001b[49m\u001b[43m)\u001b[49m\n",
      "File \u001b[0;32m~/Desktop/Online Courses/mlops/.conda/lib/python3.9/site-packages/cassandra/cluster.py:3340\u001b[0m, in \u001b[0;36mcassandra.cluster.Session.set_keyspace\u001b[0;34m()\u001b[0m\n",
      "File \u001b[0;32m~/Desktop/Online Courses/mlops/.conda/lib/python3.9/site-packages/cassandra/cluster.py:2677\u001b[0m, in \u001b[0;36mcassandra.cluster.Session.execute\u001b[0;34m()\u001b[0m\n",
      "File \u001b[0;32m~/Desktop/Online Courses/mlops/.conda/lib/python3.9/site-packages/cassandra/cluster.py:4956\u001b[0m, in \u001b[0;36mcassandra.cluster.ResponseFuture.result\u001b[0;34m()\u001b[0m\n",
      "\u001b[0;31mInvalidRequest\u001b[0m: Error from server: code=2200 [Invalid query] message=\"Keyspace 'test_keyspace' does not exist\""
     ]
    }
   ],
   "source": [
    "cassandra_op.use_keyspace(keyspace)"
   ]
  },
  {
   "cell_type": "code",
   "execution_count": 397,
   "metadata": {},
   "outputs": [],
   "source": [
    "table_name = 'new_users'\n",
    "schema = {\n",
    "    'id': 'int PRIMARY KEY',\n",
    "    'name': 'text',\n",
    "    'age': 'int',\n",
    "    'email': 'text'\n",
    "}"
   ]
  },
  {
   "cell_type": "code",
   "execution_count": 398,
   "metadata": {},
   "outputs": [
    {
     "name": "stdout",
     "output_type": "stream",
     "text": [
      "CREATE TABLE IF NOT EXISTS  test_keyspace.new_users (id int PRIMARY KEY, name text, age int, email text);\n"
     ]
    }
   ],
   "source": [
    "# Create a table (if not exists)\n",
    "cassandra_op.create_table(table_name, schema)"
   ]
  },
  {
   "cell_type": "code",
   "execution_count": 399,
   "metadata": {},
   "outputs": [],
   "source": [
    "import uuid\n",
    "# Insert a single record\n",
    "record = {'id': 0, 'name': 'Sneh Doe', 'age': 30, 'email': \"abc.com\"}\n",
    "cassandra_op.insert_record(table_name, record)"
   ]
  },
  {
   "cell_type": "code",
   "execution_count": 400,
   "metadata": {},
   "outputs": [
    {
     "name": "stdout",
     "output_type": "stream",
     "text": [
      "{'id': 1, 'name': 'John Doe', 'age': 30, 'email': 'a.com'}\n",
      "{'id': 2, 'name': 'Jane Smith', 'age': 25, 'email': 'b.com'}\n",
      "{'id': 3, 'name': 'Bob Johnson', 'age': 40, 'email': 'c.com'}\n",
      "{'id': 4, 'name': 'Alice Williams', 'age': 35, 'email': 'd.com'}\n"
     ]
    }
   ],
   "source": [
    "# Bulk insert records from a CSV file\n",
    "csv_file = '/Users/snehsuresh/Desktop/Online Courses/mlops/src/database_automation/data.csv'  # Replace with your CSV file path\n",
    "cassandra_op.bulk_insert(csv_file, table_name)\n"
   ]
  },
  {
   "cell_type": "code",
   "execution_count": 412,
   "metadata": {},
   "outputs": [
    {
     "name": "stdout",
     "output_type": "stream",
     "text": [
      "Row(id=1, age=30, email='a.com', name='John Doe')\n",
      "Row(id=0, age=30, email='abc.com', name='Sneh Doe')\n",
      "Row(id=2, age=25, email='b.com', name='Jane Smith')\n",
      "Row(id=4, age=35, email='d.com', name='Alice Williams')\n",
      "Row(id=3, age=40, email='c.com', name='Bob Johnson')\n"
     ]
    }
   ],
   "source": [
    "rows = cassandra_op.fetch_records('new_users')\n",
    "for row in rows:\n",
    "    print(row)"
   ]
  },
  {
   "cell_type": "code",
   "execution_count": 402,
   "metadata": {},
   "outputs": [
    {
     "name": "stdout",
     "output_type": "stream",
     "text": [
      "CREATE KEYSPACE IF NOT EXISTS new_keyspace WITH replication = {'class': SimpleStrategy', 'replication_factor' : 1};\n"
     ]
    }
   ],
   "source": [
    "cassandra_op.create_keyspace('new_keyspace')\n"
   ]
  },
  {
   "cell_type": "code",
   "execution_count": 405,
   "metadata": {},
   "outputs": [
    {
     "name": "stdout",
     "output_type": "stream",
     "text": [
      "Switched to keyspace: test_keyspace\n"
     ]
    }
   ],
   "source": [
    "cassandra_op.switch_keyspace('test_keyspace')"
   ]
  },
  {
   "cell_type": "code",
   "execution_count": 409,
   "metadata": {},
   "outputs": [
    {
     "ename": "AttributeError",
     "evalue": "'NoneType' object has no attribute 'keyspace'",
     "output_type": "error",
     "traceback": [
      "\u001b[0;31m---------------------------------------------------------------------------\u001b[0m",
      "\u001b[0;31mAttributeError\u001b[0m                            Traceback (most recent call last)",
      "Cell \u001b[0;32mIn[409], line 1\u001b[0m\n\u001b[0;32m----> 1\u001b[0m \u001b[43mcassandra_op\u001b[49m\u001b[38;5;241;43m.\u001b[39;49m\u001b[43mget_table_schema\u001b[49m\u001b[43m(\u001b[49m\u001b[38;5;124;43m'\u001b[39;49m\u001b[38;5;124;43mnew_users\u001b[39;49m\u001b[38;5;124;43m'\u001b[39;49m\u001b[43m)\u001b[49m\n",
      "Cell \u001b[0;32mIn[390], line 106\u001b[0m, in \u001b[0;36mCassandraOperation.get_table_schema\u001b[0;34m(self, table_name)\u001b[0m\n\u001b[1;32m    105\u001b[0m \u001b[38;5;28;01mdef\u001b[39;00m \u001b[38;5;21mget_table_schema\u001b[39m(\u001b[38;5;28mself\u001b[39m, table_name: \u001b[38;5;28mstr\u001b[39m):\n\u001b[0;32m--> 106\u001b[0m     keyspace_name \u001b[38;5;241m=\u001b[39m \u001b[38;5;28;43mself\u001b[39;49m\u001b[38;5;241;43m.\u001b[39;49m\u001b[43m__session\u001b[49m\u001b[38;5;241;43m.\u001b[39;49m\u001b[43mkeyspace\u001b[49m\n\u001b[1;32m    107\u001b[0m     \u001b[38;5;28;01mif\u001b[39;00m keyspace_name \u001b[38;5;129;01mis\u001b[39;00m \u001b[38;5;28;01mNone\u001b[39;00m:\n\u001b[1;32m    108\u001b[0m         \u001b[38;5;28;01mraise\u001b[39;00m \u001b[38;5;167;01mValueError\u001b[39;00m(\u001b[38;5;124m\"\u001b[39m\u001b[38;5;124mNo keyspace selected in the current session.\u001b[39m\u001b[38;5;124m\"\u001b[39m)\n",
      "\u001b[0;31mAttributeError\u001b[0m: 'NoneType' object has no attribute 'keyspace'"
     ]
    }
   ],
   "source": [
    "cassandra_op.get_table_schema('new_users')"
   ]
  },
  {
   "cell_type": "code",
   "execution_count": 407,
   "metadata": {},
   "outputs": [
    {
     "name": "stdout",
     "output_type": "stream",
     "text": [
      "test-cassandra-v2\n",
      "test-cassandra-v2\n",
      "Cassandra container stopped and removed.\n"
     ]
    }
   ],
   "source": [
    "cassandra_op.close()"
   ]
  },
  {
   "cell_type": "code",
   "execution_count": null,
   "metadata": {},
   "outputs": [],
   "source": []
  }
 ],
 "metadata": {
  "kernelspec": {
   "display_name": "Python 3",
   "language": "python",
   "name": "python3"
  },
  "language_info": {
   "codemirror_mode": {
    "name": "ipython",
    "version": 3
   },
   "file_extension": ".py",
   "mimetype": "text/x-python",
   "name": "python",
   "nbconvert_exporter": "python",
   "pygments_lexer": "ipython3",
   "version": "3.9.19"
  }
 },
 "nbformat": 4,
 "nbformat_minor": 2
}
