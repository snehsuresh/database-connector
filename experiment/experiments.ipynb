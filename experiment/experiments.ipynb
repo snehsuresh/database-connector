{
 "cells": [
  {
   "cell_type": "code",
   "execution_count": 33,
   "metadata": {},
   "outputs": [],
   "source": [
    "import mysql.connector\n",
    "from mysql.connector import errorcode\n",
    "\n",
    "class MySQLConnection:\n",
    "    def __init__(self, host: str, user: str, password: str, database: str = None, port: int = 3306):\n",
    "        self.__host = host\n",
    "        self.__user = user\n",
    "        self.__password = password\n",
    "        self.__database = database\n",
    "        self.__port = port\n",
    "        self.__connection = None\n",
    "        self.__cursor = None\n",
    "\n",
    "    def connect(self):\n",
    "        try:\n",
    "            self.__connection = mysql.connector.connect(\n",
    "                host=self.__host,\n",
    "                user=self.__user,\n",
    "                password=self.__password,\n",
    "                database=self.__database if self.__database else None,\n",
    "                port=self.__port\n",
    "            )\n",
    "            self.__cursor = self.__connection.cursor()\n",
    "        except mysql.connector.Error as err:\n",
    "            if err.errno == errorcode.ER_BAD_DB_ERROR and self.__database:\n",
    "                self.create_database()\n",
    "                self.__connection = mysql.connector.connect(\n",
    "                    host=self.__host,\n",
    "                    user=self.__user,\n",
    "                    password=self.__password,\n",
    "                    database=self.__database,\n",
    "                    port=self.__port\n",
    "                )\n",
    "                self.__cursor = self.__connection.cursor()\n",
    "            else:\n",
    "                raise Exception(f\"Error connecting to the database: {err}\")\n",
    "\n",
    "    def disconnect(self):\n",
    "        try:\n",
    "            if self.__connection.is_connected():\n",
    "                self.__cursor.close()\n",
    "                self.__connection.close()\n",
    "        except mysql.connector.Error as err:\n",
    "            raise Exception(f\"Error disconnecting from the database: {err}\")\n",
    "\n",
    "    def create_database(self, database: str = None):\n",
    "        try:\n",
    "            if database: self.__database = database\n",
    "            temp_connection = mysql.connector.connect(\n",
    "                host=self.__host,\n",
    "                user=self.__user,\n",
    "                password=self.__password,\n",
    "                port=self.__port\n",
    "            )\n",
    "            temp_cursor = temp_connection.cursor()\n",
    "            temp_cursor.execute(f\"CREATE DATABASE {self.__database}\")\n",
    "            temp_cursor.close()\n",
    "            temp_connection.close()\n",
    "        except mysql.connector.Error as err:\n",
    "            raise Exception(f\"Failed to create database: {err}\")\n",
    "\n",
    "    def create_table(self, table_name: str, columns: dict):\n",
    "        try:\n",
    "            self.connect()\n",
    "            columns_str = ', '.join([f'{col} {data_type}' for col, data_type in columns.items()])\n",
    "            create_table_query = f'CREATE TABLE {table_name} ({columns_str})'\n",
    "            self.__cursor.execute(create_table_query)\n",
    "            self.__connection.commit()\n",
    "        except mysql.connector.Error as err:\n",
    "            raise Exception(f\"Failed to create table: {err}\")\n",
    "        finally:\n",
    "            self.disconnect()\n",
    "\n",
    "    def insert_record(self, table_name: str, record: dict):\n",
    "        try:\n",
    "            self.connect()\n",
    "            columns = ', '.join(record.keys())\n",
    "            values = tuple(record.values())\n",
    "            placeholders = ', '.join(['%s'] * len(record))\n",
    "            insert_query = f'INSERT INTO {table_name} ({columns}) VALUES ({placeholders})'\n",
    "            self.__cursor.execute(insert_query, values)\n",
    "            self.__connection.commit()\n",
    "        except mysql.connector.Error as err:\n",
    "            raise Exception(f\"Failed to insert record: {err}\")\n",
    "        finally:\n",
    "            self.disconnect()\n",
    "\n",
    "    def select_record(self, table_name: str, conditions: str = None):\n",
    "        try:\n",
    "            self.connect()\n",
    "            select_query = f'SELECT * FROM {table_name}'\n",
    "            if conditions:\n",
    "                select_query += f' WHERE {conditions}'\n",
    "            self.__cursor.execute(select_query)\n",
    "            records = self.__cursor.fetchall()\n",
    "            return records\n",
    "        except mysql.connector.Error as err:\n",
    "            raise Exception(f\"Failed to select record: {err}\")\n",
    "        finally:\n",
    "            self.disconnect()\n",
    "\n",
    "    def update_record(self, table_name: str, record: dict, conditions: str):\n",
    "        try:\n",
    "            self.connect()\n",
    "            set_clause = ', '.join([f'{key}=%s' for key in record.keys()])\n",
    "            values = tuple(record.values())\n",
    "            update_query = f'UPDATE {table_name} SET {set_clause} WHERE {conditions}'\n",
    "            self.__cursor.execute(update_query, values)\n",
    "            self.__connection.commit()\n",
    "        except mysql.connector.Error as err:\n",
    "            raise Exception(f\"Failed to update record: {err}\")\n",
    "        finally:\n",
    "            self.disconnect()\n",
    "\n",
    "    def delete_record(self, table_name: str, conditions: str):\n",
    "        try:\n",
    "            self.connect()\n",
    "            delete_query = f'DELETE FROM {table_name} WHERE {conditions}'\n",
    "            self.__cursor.execute(delete_query)\n",
    "            self.__connection.commit()\n",
    "        except mysql.connector.Error as err:\n",
    "            raise Exception(f\"Failed to delete record: {err}\")\n",
    "        finally:\n",
    "            self.disconnect()\n"
   ]
  },
  {
   "cell_type": "code",
   "execution_count": 34,
   "metadata": {},
   "outputs": [],
   "source": [
    "passwd = 'pearlbharti'\n",
    "mysql_conn = MySQLConnection(host='localhost', user='root', password=passwd, database=None)\n",
    "mysql_conn.connect()"
   ]
  },
  {
   "cell_type": "code",
   "execution_count": 35,
   "metadata": {},
   "outputs": [],
   "source": [
    "mysql_conn.create_database(\"test_database\")"
   ]
  },
  {
   "cell_type": "code",
   "execution_count": 36,
   "metadata": {},
   "outputs": [],
   "source": [
    "columns = {\n",
    "            'id': 'INT AUTO_INCREMENT PRIMARY KEY',\n",
    "            'name': 'VARCHAR(255)',\n",
    "            'age': 'INT'\n",
    "        }\n",
    "mysql_conn.create_table('users', columns)\n"
   ]
  },
  {
   "cell_type": "code",
   "execution_count": 37,
   "metadata": {},
   "outputs": [],
   "source": [
    "record1 = {'name': 'Alice', 'age': 25}\n",
    "mysql_conn.insert_record('users', record1)"
   ]
  },
  {
   "cell_type": "code",
   "execution_count": 38,
   "metadata": {},
   "outputs": [],
   "source": [
    "record2 = {'name': 'Bob', 'age': 30}\n",
    "mysql_conn.insert_record('users', record2)"
   ]
  },
  {
   "cell_type": "code",
   "execution_count": 39,
   "metadata": {},
   "outputs": [
    {
     "name": "stdout",
     "output_type": "stream",
     "text": [
      "Selected records: [(1, 'Alice', 25), (2, 'Bob', 30)]\n"
     ]
    }
   ],
   "source": [
    "records = mysql_conn.select_record('users')\n",
    "print(\"Selected records:\", records)"
   ]
  },
  {
   "cell_type": "code",
   "execution_count": 40,
   "metadata": {},
   "outputs": [],
   "source": [
    "update_record = {'age': 26}\n",
    "mysql_conn.update_record('users', update_record, 'name=\"Alice\"')"
   ]
  },
  {
   "cell_type": "code",
   "execution_count": 41,
   "metadata": {},
   "outputs": [
    {
     "name": "stdout",
     "output_type": "stream",
     "text": [
      "Updated records: [(1, 'Alice', 26), (2, 'Bob', 30)]\n"
     ]
    }
   ],
   "source": [
    "updated_records = mysql_conn.select_record('users')\n",
    "print(\"Updated records:\", updated_records)"
   ]
  },
  {
   "cell_type": "code",
   "execution_count": 42,
   "metadata": {},
   "outputs": [
    {
     "name": "stdout",
     "output_type": "stream",
     "text": [
      "Remaining records: [(1, 'Alice', 26)]\n"
     ]
    }
   ],
   "source": [
    "mysql_conn.delete_record('users', 'name=\"Bob\"')\n",
    "\n",
    "        # Select remaining records\n",
    "remaining_records = mysql_conn.select_record('users')\n",
    "print(\"Remaining records:\", remaining_records)"
   ]
  },
  {
   "cell_type": "code",
   "execution_count": null,
   "metadata": {},
   "outputs": [],
   "source": []
  }
 ],
 "metadata": {
  "kernelspec": {
   "display_name": "Python 3",
   "language": "python",
   "name": "python3"
  },
  "language_info": {
   "codemirror_mode": {
    "name": "ipython",
    "version": 3
   },
   "file_extension": ".py",
   "mimetype": "text/x-python",
   "name": "python",
   "nbconvert_exporter": "python",
   "pygments_lexer": "ipython3",
   "version": "3.9.6"
  }
 },
 "nbformat": 4,
 "nbformat_minor": 2
}
