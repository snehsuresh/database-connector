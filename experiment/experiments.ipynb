{
 "cells": [
  {
   "cell_type": "code",
   "execution_count": 1,
   "metadata": {},
   "outputs": [],
   "source": [
    "import mysql.connector\n",
    "from mysql.connector import errorcode\n",
    "\n",
    "class MySQLConnection:\n",
    "    def __init__(self, host: str, user: str, password: str, database: str = None, port: int = 3306):\n",
    "        self.__host = host\n",
    "        self.__user = user\n",
    "        self.__password = password\n",
    "        self.__database = database\n",
    "        self.__port = port\n",
    "        self.__connection = None\n",
    "        self.__cursor = None\n",
    "\n",
    "    def connect(self):\n",
    "        try:\n",
    "            self.__connection = mysql.connector.connect(\n",
    "                host=self.__host,\n",
    "                user=self.__user,\n",
    "                password=self.__password,\n",
    "                database=self.__database if self.__database else None,\n",
    "                port=self.__port\n",
    "            )\n",
    "            self.__cursor = self.__connection.cursor()\n",
    "        except mysql.connector.Error as err:\n",
    "            if err.errno == errorcode.ER_BAD_DB_ERROR and self.__database:\n",
    "                self.create_database()\n",
    "                self.__connection = mysql.connector.connect(\n",
    "                    host=self.__host,\n",
    "                    user=self.__user,\n",
    "                    password=self.__password,\n",
    "                    database=self.__database,\n",
    "                    port=self.__port\n",
    "                )\n",
    "                self.__cursor = self.__connection.cursor()\n",
    "            else:\n",
    "                raise Exception(f\"Error connecting to the database: {err}\")\n",
    "\n",
    "    def disconnect(self):\n",
    "        try:\n",
    "            if self.__connection and self.__connection.is_connected():\n",
    "                self.__cursor.close()\n",
    "                self.__connection.close()\n",
    "        except mysql.connector.Error as err:\n",
    "            raise Exception(f\"Error disconnecting from the database: {err}\")\n",
    "\n",
    "    def create_database(self):\n",
    "        try:\n",
    "            temp_connection = mysql.connector.connect(\n",
    "                host=self.__host,\n",
    "                user=self.__user,\n",
    "                password=self.__password,\n",
    "                port=self.__port\n",
    "            )\n",
    "            temp_cursor = temp_connection.cursor()\n",
    "            temp_cursor.execute(f\"CREATE DATABASE {self.__database}\")\n",
    "            temp_cursor.close()\n",
    "            temp_connection.close()\n",
    "        except mysql.connector.Error as err:\n",
    "            raise Exception(f\"Failed to create database: {err}\")\n",
    "\n",
    "    def create_table(self, table_name: str, columns: dict):\n",
    "        try:\n",
    "            self.connect()\n",
    "            columns_str = ', '.join([f'{col} {data_type}' for col, data_type in columns.items()])\n",
    "            create_table_query = f'CREATE TABLE {table_name} ({columns_str})'\n",
    "            self.__cursor.execute(create_table_query)\n",
    "            self.__connection.commit()\n",
    "        except mysql.connector.Error as err:\n",
    "            raise Exception(f\"Failed to create table: {err}\")\n",
    "        finally:\n",
    "            self.disconnect()\n",
    "\n",
    "    def insert_record(self, table_name: str, record: dict):\n",
    "        try:\n",
    "            self.connect()\n",
    "            columns = ', '.join(record.keys())\n",
    "            values = tuple(record.values())\n",
    "            placeholders = ', '.join(['%s'] * len(record))\n",
    "            insert_query = f'INSERT INTO {table_name} ({columns}) VALUES ({placeholders})'\n",
    "            self.__cursor.execute(insert_query, values)\n",
    "            self.__connection.commit()\n",
    "        except mysql.connector.Error as err:\n",
    "            raise Exception(f\"Failed to insert record: {err}\")\n",
    "        finally:\n",
    "            self.disconnect()\n",
    "\n",
    "    def select_record(self, table_name: str, conditions: str = None):\n",
    "        try:\n",
    "            self.connect()\n",
    "            select_query = f'SELECT * FROM {table_name}'\n",
    "            if conditions:\n",
    "                select_query += f' WHERE {conditions}'\n",
    "            self.__cursor.execute(select_query)\n",
    "            records = self.__cursor.fetchall()\n",
    "            return records\n",
    "        except mysql.connector.Error as err:\n",
    "            raise Exception(f\"Failed to select record: {err}\")\n",
    "        finally:\n",
    "            self.disconnect()\n",
    "\n",
    "    def update_record(self, table_name: str, record: dict, conditions: str):\n",
    "        try:\n",
    "            self.connect()\n",
    "            set_clause = ', '.join([f'{key}=%s' for key in record.keys()])\n",
    "            values = tuple(record.values())\n",
    "            update_query = f'UPDATE {table_name} SET {set_clause} WHERE {conditions}'\n",
    "            self.__cursor.execute(update_query, values)\n",
    "            self.__connection.commit()\n",
    "        except mysql.connector.Error as err:\n",
    "            raise Exception(f\"Failed to update record: {err}\")\n",
    "        finally:\n",
    "            self.disconnect()\n",
    "\n",
    "    def delete_record(self, table_name: str, conditions: str):\n",
    "        try:\n",
    "            self.connect()\n",
    "            delete_query = f'DELETE FROM {table_name} WHERE {conditions}'\n",
    "            self.__cursor.execute(delete_query)\n",
    "            self.__connection.commit()\n",
    "        except mysql.connector.Error as err:\n",
    "            raise Exception(f\"Failed to delete record: {err}\")\n",
    "        finally:\n",
    "            self.disconnect()\n"
   ]
  },
  {
   "cell_type": "code",
   "execution_count": 2,
   "metadata": {},
   "outputs": [],
   "source": [
    "passwd = 'pearlbharti'\n",
    "mysql_conn = MySQLConnection(host='localhost', user='root', password=passwd, database=\"test_database\")\n",
    "mysql_conn.connect()"
   ]
  },
  {
   "cell_type": "code",
   "execution_count": 35,
   "metadata": {},
   "outputs": [],
   "source": [
    "mysql_conn.create_database(\"test_database\")"
   ]
  },
  {
   "cell_type": "code",
   "execution_count": 4,
   "metadata": {},
   "outputs": [
    {
     "ename": "Exception",
     "evalue": "Failed to create table: 1050 (42S01): Table 'matches' already exists",
     "output_type": "error",
     "traceback": [
      "\u001b[0;31m---------------------------------------------------------------------------\u001b[0m",
      "\u001b[0;31mMySQLInterfaceError\u001b[0m                       Traceback (most recent call last)",
      "File \u001b[0;32m~/Desktop/mlops/.venv/lib/python3.9/site-packages/mysql/connector/connection_cext.py:705\u001b[0m, in \u001b[0;36mCMySQLConnection.cmd_query\u001b[0;34m(self, query, raw, buffered, raw_as_string)\u001b[0m\n\u001b[1;32m    704\u001b[0m         query \u001b[38;5;241m=\u001b[39m query\u001b[38;5;241m.\u001b[39mencode(\u001b[38;5;124m\"\u001b[39m\u001b[38;5;124mutf-8\u001b[39m\u001b[38;5;124m\"\u001b[39m)\n\u001b[0;32m--> 705\u001b[0m     \u001b[38;5;28;43mself\u001b[39;49m\u001b[38;5;241;43m.\u001b[39;49m\u001b[43m_cmysql\u001b[49m\u001b[38;5;241;43m.\u001b[39;49m\u001b[43mquery\u001b[49m\u001b[43m(\u001b[49m\n\u001b[1;32m    706\u001b[0m \u001b[43m        \u001b[49m\u001b[43mquery\u001b[49m\u001b[43m,\u001b[49m\n\u001b[1;32m    707\u001b[0m \u001b[43m        \u001b[49m\u001b[43mraw\u001b[49m\u001b[38;5;241;43m=\u001b[39;49m\u001b[43mraw\u001b[49m\u001b[43m,\u001b[49m\n\u001b[1;32m    708\u001b[0m \u001b[43m        \u001b[49m\u001b[43mbuffered\u001b[49m\u001b[38;5;241;43m=\u001b[39;49m\u001b[43mbuffered\u001b[49m\u001b[43m,\u001b[49m\n\u001b[1;32m    709\u001b[0m \u001b[43m        \u001b[49m\u001b[43mraw_as_string\u001b[49m\u001b[38;5;241;43m=\u001b[39;49m\u001b[43mraw_as_string\u001b[49m\u001b[43m,\u001b[49m\n\u001b[1;32m    710\u001b[0m \u001b[43m        \u001b[49m\u001b[43mquery_attrs\u001b[49m\u001b[38;5;241;43m=\u001b[39;49m\u001b[38;5;28;43mself\u001b[39;49m\u001b[38;5;241;43m.\u001b[39;49m\u001b[43mquery_attrs\u001b[49m\u001b[43m,\u001b[49m\n\u001b[1;32m    711\u001b[0m \u001b[43m    \u001b[49m\u001b[43m)\u001b[49m\n\u001b[1;32m    712\u001b[0m \u001b[38;5;28;01mexcept\u001b[39;00m MySQLInterfaceError \u001b[38;5;28;01mas\u001b[39;00m err:\n",
      "\u001b[0;31mMySQLInterfaceError\u001b[0m: Table 'matches' already exists",
      "\nThe above exception was the direct cause of the following exception:\n",
      "\u001b[0;31mProgrammingError\u001b[0m                          Traceback (most recent call last)",
      "Cell \u001b[0;32mIn[1], line 66\u001b[0m, in \u001b[0;36mMySQLConnection.create_table\u001b[0;34m(self, table_name, columns)\u001b[0m\n\u001b[1;32m     65\u001b[0m create_table_query \u001b[38;5;241m=\u001b[39m \u001b[38;5;124mf\u001b[39m\u001b[38;5;124m'\u001b[39m\u001b[38;5;124mCREATE TABLE \u001b[39m\u001b[38;5;132;01m{\u001b[39;00mtable_name\u001b[38;5;132;01m}\u001b[39;00m\u001b[38;5;124m (\u001b[39m\u001b[38;5;132;01m{\u001b[39;00mcolumns_str\u001b[38;5;132;01m}\u001b[39;00m\u001b[38;5;124m)\u001b[39m\u001b[38;5;124m'\u001b[39m\n\u001b[0;32m---> 66\u001b[0m \u001b[38;5;28;43mself\u001b[39;49m\u001b[38;5;241;43m.\u001b[39;49m\u001b[43m__cursor\u001b[49m\u001b[38;5;241;43m.\u001b[39;49m\u001b[43mexecute\u001b[49m\u001b[43m(\u001b[49m\u001b[43mcreate_table_query\u001b[49m\u001b[43m)\u001b[49m\n\u001b[1;32m     67\u001b[0m \u001b[38;5;28mself\u001b[39m\u001b[38;5;241m.\u001b[39m__connection\u001b[38;5;241m.\u001b[39mcommit()\n",
      "File \u001b[0;32m~/Desktop/mlops/.venv/lib/python3.9/site-packages/mysql/connector/cursor_cext.py:357\u001b[0m, in \u001b[0;36mCMySQLCursor.execute\u001b[0;34m(self, operation, params, multi)\u001b[0m\n\u001b[1;32m    356\u001b[0m \u001b[38;5;28;01mtry\u001b[39;00m:\n\u001b[0;32m--> 357\u001b[0m     result \u001b[38;5;241m=\u001b[39m \u001b[38;5;28;43mself\u001b[39;49m\u001b[38;5;241;43m.\u001b[39;49m\u001b[43m_connection\u001b[49m\u001b[38;5;241;43m.\u001b[39;49m\u001b[43mcmd_query\u001b[49m\u001b[43m(\u001b[49m\n\u001b[1;32m    358\u001b[0m \u001b[43m        \u001b[49m\u001b[43mstmt\u001b[49m\u001b[43m,\u001b[49m\n\u001b[1;32m    359\u001b[0m \u001b[43m        \u001b[49m\u001b[43mraw\u001b[49m\u001b[38;5;241;43m=\u001b[39;49m\u001b[38;5;28;43mself\u001b[39;49m\u001b[38;5;241;43m.\u001b[39;49m\u001b[43m_raw\u001b[49m\u001b[43m,\u001b[49m\n\u001b[1;32m    360\u001b[0m \u001b[43m        \u001b[49m\u001b[43mbuffered\u001b[49m\u001b[38;5;241;43m=\u001b[39;49m\u001b[38;5;28;43mself\u001b[39;49m\u001b[38;5;241;43m.\u001b[39;49m\u001b[43m_buffered\u001b[49m\u001b[43m,\u001b[49m\n\u001b[1;32m    361\u001b[0m \u001b[43m        \u001b[49m\u001b[43mraw_as_string\u001b[49m\u001b[38;5;241;43m=\u001b[39;49m\u001b[38;5;28;43mself\u001b[39;49m\u001b[38;5;241;43m.\u001b[39;49m\u001b[43m_raw_as_string\u001b[49m\u001b[43m,\u001b[49m\n\u001b[1;32m    362\u001b[0m \u001b[43m    \u001b[49m\u001b[43m)\u001b[49m\n\u001b[1;32m    363\u001b[0m \u001b[38;5;28;01mexcept\u001b[39;00m MySQLInterfaceError \u001b[38;5;28;01mas\u001b[39;00m err:\n",
      "File \u001b[0;32m~/Desktop/mlops/.venv/lib/python3.9/site-packages/mysql/connector/opentelemetry/context_propagation.py:97\u001b[0m, in \u001b[0;36mwith_context_propagation.<locals>.wrapper\u001b[0;34m(cnx, *args, **kwargs)\u001b[0m\n\u001b[1;32m     96\u001b[0m \u001b[38;5;28;01mif\u001b[39;00m \u001b[38;5;129;01mnot\u001b[39;00m OTEL_ENABLED \u001b[38;5;129;01mor\u001b[39;00m \u001b[38;5;129;01mnot\u001b[39;00m cnx\u001b[38;5;241m.\u001b[39motel_context_propagation:\n\u001b[0;32m---> 97\u001b[0m     \u001b[38;5;28;01mreturn\u001b[39;00m \u001b[43mmethod\u001b[49m\u001b[43m(\u001b[49m\u001b[43mcnx\u001b[49m\u001b[43m,\u001b[49m\u001b[43m \u001b[49m\u001b[38;5;241;43m*\u001b[39;49m\u001b[43margs\u001b[49m\u001b[43m,\u001b[49m\u001b[43m \u001b[49m\u001b[38;5;241;43m*\u001b[39;49m\u001b[38;5;241;43m*\u001b[39;49m\u001b[43mkwargs\u001b[49m\u001b[43m)\u001b[49m\n\u001b[1;32m     99\u001b[0m current_span \u001b[38;5;241m=\u001b[39m trace\u001b[38;5;241m.\u001b[39mget_current_span()\n",
      "File \u001b[0;32m~/Desktop/mlops/.venv/lib/python3.9/site-packages/mysql/connector/connection_cext.py:713\u001b[0m, in \u001b[0;36mCMySQLConnection.cmd_query\u001b[0;34m(self, query, raw, buffered, raw_as_string)\u001b[0m\n\u001b[1;32m    712\u001b[0m \u001b[38;5;28;01mexcept\u001b[39;00m MySQLInterfaceError \u001b[38;5;28;01mas\u001b[39;00m err:\n\u001b[0;32m--> 713\u001b[0m     \u001b[38;5;28;01mraise\u001b[39;00m get_mysql_exception(\n\u001b[1;32m    714\u001b[0m         err\u001b[38;5;241m.\u001b[39merrno, msg\u001b[38;5;241m=\u001b[39merr\u001b[38;5;241m.\u001b[39mmsg, sqlstate\u001b[38;5;241m=\u001b[39merr\u001b[38;5;241m.\u001b[39msqlstate\n\u001b[1;32m    715\u001b[0m     ) \u001b[38;5;28;01mfrom\u001b[39;00m \u001b[38;5;21;01merr\u001b[39;00m\n\u001b[1;32m    716\u001b[0m \u001b[38;5;28;01mexcept\u001b[39;00m \u001b[38;5;167;01mAttributeError\u001b[39;00m \u001b[38;5;28;01mas\u001b[39;00m err:\n",
      "\u001b[0;31mProgrammingError\u001b[0m: 1050 (42S01): Table 'matches' already exists",
      "\nDuring handling of the above exception, another exception occurred:\n",
      "\u001b[0;31mException\u001b[0m                                 Traceback (most recent call last)",
      "Cell \u001b[0;32mIn[4], line 6\u001b[0m\n\u001b[1;32m      1\u001b[0m columns \u001b[38;5;241m=\u001b[39m {\n\u001b[1;32m      2\u001b[0m             \u001b[38;5;124m'\u001b[39m\u001b[38;5;124mid\u001b[39m\u001b[38;5;124m'\u001b[39m: \u001b[38;5;124m'\u001b[39m\u001b[38;5;124mINT AUTO_INCREMENT PRIMARY KEY\u001b[39m\u001b[38;5;124m'\u001b[39m,\n\u001b[1;32m      3\u001b[0m             \u001b[38;5;124m'\u001b[39m\u001b[38;5;124mstadium\u001b[39m\u001b[38;5;124m'\u001b[39m: \u001b[38;5;124m'\u001b[39m\u001b[38;5;124mVARCHAR(255)\u001b[39m\u001b[38;5;124m'\u001b[39m,\n\u001b[1;32m      4\u001b[0m             \u001b[38;5;124m'\u001b[39m\u001b[38;5;124mage\u001b[39m\u001b[38;5;124m'\u001b[39m: \u001b[38;5;124m'\u001b[39m\u001b[38;5;124mINT\u001b[39m\u001b[38;5;124m'\u001b[39m\n\u001b[1;32m      5\u001b[0m         }\n\u001b[0;32m----> 6\u001b[0m \u001b[43mmysql_conn\u001b[49m\u001b[38;5;241;43m.\u001b[39;49m\u001b[43mcreate_table\u001b[49m\u001b[43m(\u001b[49m\u001b[38;5;124;43m'\u001b[39;49m\u001b[38;5;124;43mmatches\u001b[39;49m\u001b[38;5;124;43m'\u001b[39;49m\u001b[43m,\u001b[49m\u001b[43m \u001b[49m\u001b[43mcolumns\u001b[49m\u001b[43m)\u001b[49m\n",
      "Cell \u001b[0;32mIn[1], line 69\u001b[0m, in \u001b[0;36mMySQLConnection.create_table\u001b[0;34m(self, table_name, columns)\u001b[0m\n\u001b[1;32m     67\u001b[0m     \u001b[38;5;28mself\u001b[39m\u001b[38;5;241m.\u001b[39m__connection\u001b[38;5;241m.\u001b[39mcommit()\n\u001b[1;32m     68\u001b[0m \u001b[38;5;28;01mexcept\u001b[39;00m mysql\u001b[38;5;241m.\u001b[39mconnector\u001b[38;5;241m.\u001b[39mError \u001b[38;5;28;01mas\u001b[39;00m err:\n\u001b[0;32m---> 69\u001b[0m     \u001b[38;5;28;01mraise\u001b[39;00m \u001b[38;5;167;01mException\u001b[39;00m(\u001b[38;5;124mf\u001b[39m\u001b[38;5;124m\"\u001b[39m\u001b[38;5;124mFailed to create table: \u001b[39m\u001b[38;5;132;01m{\u001b[39;00merr\u001b[38;5;132;01m}\u001b[39;00m\u001b[38;5;124m\"\u001b[39m)\n\u001b[1;32m     70\u001b[0m \u001b[38;5;28;01mfinally\u001b[39;00m:\n\u001b[1;32m     71\u001b[0m     \u001b[38;5;28mself\u001b[39m\u001b[38;5;241m.\u001b[39mdisconnect()\n",
      "\u001b[0;31mException\u001b[0m: Failed to create table: 1050 (42S01): Table 'matches' already exists"
     ]
    }
   ],
   "source": [
    "columns = {\n",
    "            'id': 'INT AUTO_INCREMENT PRIMARY KEY',\n",
    "            'stadium': 'VARCHAR(255)',\n",
    "            'age': 'INT'\n",
    "        }\n",
    "mysql_conn.create_table('matches', columns)\n"
   ]
  },
  {
   "cell_type": "code",
   "execution_count": 5,
   "metadata": {},
   "outputs": [],
   "source": [
    "record1 = {'stadium': 'Alice', 'age': 25}\n",
    "mysql_conn.insert_record('matches', record1)"
   ]
  },
  {
   "cell_type": "code",
   "execution_count": 7,
   "metadata": {},
   "outputs": [],
   "source": [
    "record2 = {'stadium': 'Bob', 'age': 30}\n",
    "mysql_conn.insert_record('matches', record2)"
   ]
  },
  {
   "cell_type": "code",
   "execution_count": 39,
   "metadata": {},
   "outputs": [
    {
     "name": "stdout",
     "output_type": "stream",
     "text": [
      "Selected records: [(1, 'Alice', 25), (2, 'Bob', 30)]\n"
     ]
    }
   ],
   "source": [
    "records = mysql_conn.select_record('matches')\n",
    "print(\"Selected records:\", records)"
   ]
  },
  {
   "cell_type": "code",
   "execution_count": 40,
   "metadata": {},
   "outputs": [],
   "source": [
    "update_record = {'age': 26}\n",
    "mysql_conn.update_record('users', update_record, 'name=\"Alice\"')"
   ]
  },
  {
   "cell_type": "code",
   "execution_count": 41,
   "metadata": {},
   "outputs": [
    {
     "name": "stdout",
     "output_type": "stream",
     "text": [
      "Updated records: [(1, 'Alice', 26), (2, 'Bob', 30)]\n"
     ]
    }
   ],
   "source": [
    "updated_records = mysql_conn.select_record('users')\n",
    "print(\"Updated records:\", updated_records)"
   ]
  },
  {
   "cell_type": "code",
   "execution_count": 42,
   "metadata": {},
   "outputs": [
    {
     "name": "stdout",
     "output_type": "stream",
     "text": [
      "Remaining records: [(1, 'Alice', 26)]\n"
     ]
    }
   ],
   "source": [
    "mysql_conn.delete_record('users', 'name=\"Bob\"')\n",
    "\n",
    "        # Select remaining records\n",
    "remaining_records = mysql_conn.select_record('users')\n",
    "print(\"Remaining records:\", remaining_records)"
   ]
  },
  {
   "cell_type": "code",
   "execution_count": null,
   "metadata": {},
   "outputs": [],
   "source": []
  }
 ],
 "metadata": {
  "kernelspec": {
   "display_name": "Python 3",
   "language": "python",
   "name": "python3"
  },
  "language_info": {
   "codemirror_mode": {
    "name": "ipython",
    "version": 3
   },
   "file_extension": ".py",
   "mimetype": "text/x-python",
   "name": "python",
   "nbconvert_exporter": "python",
   "pygments_lexer": "ipython3",
   "version": "3.9.6"
  }
 },
 "nbformat": 4,
 "nbformat_minor": 2
}
